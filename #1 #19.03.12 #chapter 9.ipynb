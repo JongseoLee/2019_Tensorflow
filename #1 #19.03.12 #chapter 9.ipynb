{
 "cells": [
  {
   "cell_type": "markdown",
   "metadata": {},
   "source": [
    "# chapter 9 텐서플로우 시작하기"
   ]
  },
  {
   "cell_type": "code",
   "execution_count": 1,
   "metadata": {},
   "outputs": [
    {
     "name": "stdout",
     "output_type": "stream",
     "text": [
      "Tensorflow Version: 1.12.0\n"
     ]
    }
   ],
   "source": [
    "import tensorflow as tf\n",
    "print(\"Tensorflow Version: {}\".format(tf.__version__))"
   ]
  },
  {
   "cell_type": "markdown",
   "metadata": {},
   "source": [
    "* tensorflow 를 시작하면 기본적으로 그래프는 생성되지만 세션은 생성되지 않음\n",
    "* 그래프의 기본적인 operation을 가져옴"
   ]
  },
  {
   "cell_type": "code",
   "execution_count": 2,
   "metadata": {},
   "outputs": [],
   "source": [
    "def checkGraph_session_operations():\n",
    "    print(\"Default Graph  :\", tf.get_default_graph())\n",
    "    print(\"Default Session:\", tf.get_default_session())\n",
    "    print(\"Graph operations : \",tf.get_default_graph().get_operations())\n",
    "    print()"
   ]
  },
  {
   "cell_type": "code",
   "execution_count": null,
   "metadata": {},
   "outputs": [],
   "source": []
  },
  {
   "cell_type": "code",
   "execution_count": null,
   "metadata": {},
   "outputs": [],
   "source": []
  },
  {
   "cell_type": "markdown",
   "metadata": {},
   "source": [
    "###### Scikit Learn과 호환되는 간결한 라이브러리 TF.Learn (tf.contrib.learn) 제공\n",
    "* tf.contrib.learn <-- deprecated. 대신 1.8버전부터는 tf.estimator로 깔끔하게 정리되어 이동됨\n",
    "* 참고: https://excelsior-cjh.tistory.com/157\n",
    "* tf.contrib.learn : https://www.tensorflow.org/api_docs/python/tf/contrib/learn\n",
    "* tf.estimator : https://www.tensorflow.org/versions/r1.12/api_docs/python/tf/estimator"
   ]
  },
  {
   "cell_type": "markdown",
   "metadata": {},
   "source": [
    "###### 신경망의 구축, 훈련, 평가를 단순화한 TF-slim API 제공 \n",
    "* https://www.tensorflow.org/api_docs/python/tf/contrib/slim\n",
    "###### Keras나 Preety Tensor와 같은 고수준 API가 텐서플로우 기반으로 독립적으로 구축\n",
    "* https://www.tensorflow.org/api_docs/python/tf/keras\n",
    "###### 기본 파이썬 API는 복잡도가 높긴 하지만 매우 유연함 --> 다양한 신경망 구조 구현 가능\n",
    "###### Loss 값을 최소화하는 모델 파라미터를 찾기 위한 고수준의 최적화 노드제공\n",
    "###### 자동 미분 (autodiff) 지원 \n",
    "###### 사용자가 직접 정의한 그래디언트를 자동으로 계산\n",
    "###### 클라우드 서비스\n",
    "* https://cloud.google.com/ml-engine/\n",
    "###### 풍부한 튜토리얼 및 리소스 \n",
    "* https://github.com/jtoy/awesome-tensorflow "
   ]
  },
  {
   "cell_type": "code",
   "execution_count": null,
   "metadata": {},
   "outputs": [],
   "source": []
  },
  {
   "cell_type": "code",
   "execution_count": null,
   "metadata": {},
   "outputs": [],
   "source": []
  },
  {
   "cell_type": "markdown",
   "metadata": {},
   "source": [
    "### [보스턴 housing price 데이터셋 예제]"
   ]
  },
  {
   "cell_type": "markdown",
   "metadata": {},
   "source": [
    "##### 빌드 단계"
   ]
  },
  {
   "cell_type": "code",
   "execution_count": 3,
   "metadata": {},
   "outputs": [
    {
     "name": "stdout",
     "output_type": "stream",
     "text": [
      "Boston Type : <class 'sklearn.utils.Bunch'>\n",
      "x_data Type : <class 'numpy.ndarray'>\n",
      "y_data Type : <class 'numpy.ndarray'>\n",
      "x_data.shape : (506, 13)\n",
      "y_data.shape : (506,)\n"
     ]
    }
   ],
   "source": [
    "from sklearn import datasets, metrics, preprocessing\n",
    "\n",
    "# 학습 데이터 가져오기 \n",
    "boston = datasets.load_boston()\n",
    "print(\"Boston Type : {}\".format(type(boston)))\n",
    "\n",
    "x_data = preprocessing.StandardScaler().fit_transform(boston.data)\n",
    "y_data = boston.target\n",
    "print(\"x_data Type : {}\".format(type(x_data)))\n",
    "print(\"y_data Type : {}\".format(type(y_data)))\n",
    "print('x_data.shape :', x_data.shape)\n",
    "print('y_data.shape :', y_data.shape)"
   ]
  },
  {
   "cell_type": "code",
   "execution_count": 4,
   "metadata": {},
   "outputs": [
    {
     "name": "stdout",
     "output_type": "stream",
     "text": [
      "Default Graph  : <tensorflow.python.framework.ops.Graph object at 0xb2d554898>\n",
      "Default Session: None\n",
      "Graph operations :  []\n",
      "\n"
     ]
    }
   ],
   "source": [
    "checkGraph_session_operations()"
   ]
  },
  {
   "cell_type": "markdown",
   "metadata": {},
   "source": [
    "* Linear Regression: Natvie TensorFlow"
   ]
  },
  {
   "cell_type": "code",
   "execution_count": 5,
   "metadata": {},
   "outputs": [],
   "source": [
    "# 변수 선언\n",
    "x = tf.placeholder(tf.float64, shape=(None, 13))\n",
    "y_true = tf.placeholder(tf.float64, shape=(None))\n",
    "\n",
    "w = tf.Variable(initial_value=tf.zeros([1, 13], dtype=tf.float64, name='weights'))\n",
    "b = tf.Variable(initial_value=0, dtype=tf.float64, name='bias')"
   ]
  },
  {
   "cell_type": "code",
   "execution_count": 6,
   "metadata": {},
   "outputs": [
    {
     "name": "stdout",
     "output_type": "stream",
     "text": [
      "Default Graph  : <tensorflow.python.framework.ops.Graph object at 0xb2d554898>\n",
      "Default Session: None\n",
      "Graph operations :  [<tf.Operation 'Placeholder' type=Placeholder>, <tf.Operation 'Placeholder_1' type=Placeholder>, <tf.Operation 'weights' type=Const>, <tf.Operation 'Variable' type=VariableV2>, <tf.Operation 'Variable/Assign' type=Assign>, <tf.Operation 'Variable/read' type=Identity>, <tf.Operation 'bias/initial_value' type=Const>, <tf.Operation 'bias' type=VariableV2>, <tf.Operation 'bias/Assign' type=Assign>, <tf.Operation 'bias/read' type=Identity>]\n",
      "\n"
     ]
    }
   ],
   "source": [
    "checkGraph_session_operations()"
   ]
  },
  {
   "cell_type": "code",
   "execution_count": 7,
   "metadata": {},
   "outputs": [],
   "source": [
    "# 가설수식\n",
    "y_pred = tf.matmul(w, tf.transpose(x)) + b\n",
    "# 비용함수      \n",
    "loss = tf.reduce_mean(tf.square(y_true-y_pred))  # MSE\n",
    "# 최적화 함수\n",
    "learningRate = 0.1\n",
    "optimizer = tf.train.GradientDescentOptimizer(learning_rate=learningRate)\n",
    "train = optimizer.minimize(loss)"
   ]
  },
  {
   "cell_type": "code",
   "execution_count": 8,
   "metadata": {},
   "outputs": [
    {
     "name": "stdout",
     "output_type": "stream",
     "text": [
      "Default Graph  : <tensorflow.python.framework.ops.Graph object at 0xb2d554898>\n",
      "Default Session: None\n",
      "Graph operations :  [<tf.Operation 'Placeholder' type=Placeholder>, <tf.Operation 'Placeholder_1' type=Placeholder>, <tf.Operation 'weights' type=Const>, <tf.Operation 'Variable' type=VariableV2>, <tf.Operation 'Variable/Assign' type=Assign>, <tf.Operation 'Variable/read' type=Identity>, <tf.Operation 'bias/initial_value' type=Const>, <tf.Operation 'bias' type=VariableV2>, <tf.Operation 'bias/Assign' type=Assign>, <tf.Operation 'bias/read' type=Identity>, <tf.Operation 'transpose/Rank' type=Rank>, <tf.Operation 'transpose/sub/y' type=Const>, <tf.Operation 'transpose/sub' type=Sub>, <tf.Operation 'transpose/Range/start' type=Const>, <tf.Operation 'transpose/Range/delta' type=Const>, <tf.Operation 'transpose/Range' type=Range>, <tf.Operation 'transpose/sub_1' type=Sub>, <tf.Operation 'transpose' type=Transpose>, <tf.Operation 'MatMul' type=MatMul>, <tf.Operation 'add' type=Add>, <tf.Operation 'sub' type=Sub>, <tf.Operation 'Square' type=Square>, <tf.Operation 'Rank' type=Rank>, <tf.Operation 'range/start' type=Const>, <tf.Operation 'range/delta' type=Const>, <tf.Operation 'range' type=Range>, <tf.Operation 'Mean' type=Mean>, <tf.Operation 'gradients/Shape' type=Const>, <tf.Operation 'gradients/grad_ys_0' type=Const>, <tf.Operation 'gradients/Fill' type=Fill>, <tf.Operation 'gradients/Mean_grad/Shape' type=Shape>, <tf.Operation 'gradients/Mean_grad/Size' type=Size>, <tf.Operation 'gradients/Mean_grad/add' type=Add>, <tf.Operation 'gradients/Mean_grad/mod' type=FloorMod>, <tf.Operation 'gradients/Mean_grad/Shape_1' type=Shape>, <tf.Operation 'gradients/Mean_grad/range/start' type=Const>, <tf.Operation 'gradients/Mean_grad/range/delta' type=Const>, <tf.Operation 'gradients/Mean_grad/range' type=Range>, <tf.Operation 'gradients/Mean_grad/Fill/value' type=Const>, <tf.Operation 'gradients/Mean_grad/Fill' type=Fill>, <tf.Operation 'gradients/Mean_grad/DynamicStitch' type=DynamicStitch>, <tf.Operation 'gradients/Mean_grad/Maximum/y' type=Const>, <tf.Operation 'gradients/Mean_grad/Maximum' type=Maximum>, <tf.Operation 'gradients/Mean_grad/floordiv' type=FloorDiv>, <tf.Operation 'gradients/Mean_grad/Reshape' type=Reshape>, <tf.Operation 'gradients/Mean_grad/Tile' type=Tile>, <tf.Operation 'gradients/Mean_grad/Shape_2' type=Shape>, <tf.Operation 'gradients/Mean_grad/Shape_3' type=Const>, <tf.Operation 'gradients/Mean_grad/Const' type=Const>, <tf.Operation 'gradients/Mean_grad/Prod' type=Prod>, <tf.Operation 'gradients/Mean_grad/Const_1' type=Const>, <tf.Operation 'gradients/Mean_grad/Prod_1' type=Prod>, <tf.Operation 'gradients/Mean_grad/Maximum_1/y' type=Const>, <tf.Operation 'gradients/Mean_grad/Maximum_1' type=Maximum>, <tf.Operation 'gradients/Mean_grad/floordiv_1' type=FloorDiv>, <tf.Operation 'gradients/Mean_grad/Cast' type=Cast>, <tf.Operation 'gradients/Mean_grad/truediv' type=RealDiv>, <tf.Operation 'gradients/Square_grad/Const' type=Const>, <tf.Operation 'gradients/Square_grad/Mul' type=Mul>, <tf.Operation 'gradients/Square_grad/Mul_1' type=Mul>, <tf.Operation 'gradients/sub_grad/Shape' type=Shape>, <tf.Operation 'gradients/sub_grad/Shape_1' type=Shape>, <tf.Operation 'gradients/sub_grad/BroadcastGradientArgs' type=BroadcastGradientArgs>, <tf.Operation 'gradients/sub_grad/Sum' type=Sum>, <tf.Operation 'gradients/sub_grad/Reshape' type=Reshape>, <tf.Operation 'gradients/sub_grad/Sum_1' type=Sum>, <tf.Operation 'gradients/sub_grad/Neg' type=Neg>, <tf.Operation 'gradients/sub_grad/Reshape_1' type=Reshape>, <tf.Operation 'gradients/sub_grad/tuple/group_deps' type=NoOp>, <tf.Operation 'gradients/sub_grad/tuple/control_dependency' type=Identity>, <tf.Operation 'gradients/sub_grad/tuple/control_dependency_1' type=Identity>, <tf.Operation 'gradients/add_grad/Shape' type=Shape>, <tf.Operation 'gradients/add_grad/Shape_1' type=Const>, <tf.Operation 'gradients/add_grad/BroadcastGradientArgs' type=BroadcastGradientArgs>, <tf.Operation 'gradients/add_grad/Sum' type=Sum>, <tf.Operation 'gradients/add_grad/Reshape' type=Reshape>, <tf.Operation 'gradients/add_grad/Sum_1' type=Sum>, <tf.Operation 'gradients/add_grad/Reshape_1' type=Reshape>, <tf.Operation 'gradients/add_grad/tuple/group_deps' type=NoOp>, <tf.Operation 'gradients/add_grad/tuple/control_dependency' type=Identity>, <tf.Operation 'gradients/add_grad/tuple/control_dependency_1' type=Identity>, <tf.Operation 'gradients/MatMul_grad/MatMul' type=MatMul>, <tf.Operation 'gradients/MatMul_grad/MatMul_1' type=MatMul>, <tf.Operation 'gradients/MatMul_grad/tuple/group_deps' type=NoOp>, <tf.Operation 'gradients/MatMul_grad/tuple/control_dependency' type=Identity>, <tf.Operation 'gradients/MatMul_grad/tuple/control_dependency_1' type=Identity>, <tf.Operation 'GradientDescent/learning_rate' type=Const>, <tf.Operation 'GradientDescent/update_Variable/Cast' type=Cast>, <tf.Operation 'GradientDescent/update_Variable/ApplyGradientDescent' type=ApplyGradientDescent>, <tf.Operation 'GradientDescent/update_bias/Cast' type=Cast>, <tf.Operation 'GradientDescent/update_bias/ApplyGradientDescent' type=ApplyGradientDescent>, <tf.Operation 'GradientDescent' type=NoOp>]\n",
      "\n"
     ]
    }
   ],
   "source": [
    "checkGraph_session_operations()"
   ]
  },
  {
   "cell_type": "markdown",
   "metadata": {},
   "source": [
    "##### 실행단계"
   ]
  },
  {
   "cell_type": "code",
   "execution_count": 9,
   "metadata": {},
   "outputs": [
    {
     "name": "stdout",
     "output_type": "stream",
     "text": [
      "Step: 40\t MSE: 22.29875\n",
      "Step: 80\t MSE: 21.99908\n",
      "Step: 120\t MSE: 21.92992\n",
      "Step: 160\t MSE: 21.90730\n",
      "Step: 200\t MSE: 21.89931\n",
      "Step: 240\t MSE: 21.89644\n",
      "Step: 280\t MSE: 21.89541\n",
      "\n",
      "MSE: 21.89517\n",
      "Default Graph  : <tensorflow.python.framework.ops.Graph object at 0xb2d554898>\n",
      "Default Session: <tensorflow.python.client.session.Session object at 0x1a2e347da0>\n",
      "\n",
      "Default Graph  : <tensorflow.python.framework.ops.Graph object at 0xb2d554898>\n",
      "Default Session: None\n",
      "\n"
     ]
    }
   ],
   "source": [
    "init = tf.global_variables_initializer()\n",
    "with tf.Session() as sess:\n",
    "    sess.run(init)\n",
    "    for step in range(300):\n",
    "        MSE, _ = sess.run([loss, train], feed_dict={x: x_data, y_true: y_data})\n",
    "        if (step + 1) % 40 == 0:\n",
    "            print('Step: {:2d}\\t MSE: {:.5f}'.format(step + 1, MSE))\n",
    "            \n",
    "    loss = sess.run(loss, feed_dict={x: x_data, y_true: y_data})\n",
    "    print('\\nMSE: {0:.5f}'.format(loss))\n",
    "    print(\"Default Graph  :\", tf.get_default_graph())\n",
    "    print(\"Default Session:\", tf.get_default_session())\n",
    "    print()\n",
    "    \n",
    "print(\"Default Graph  :\", tf.get_default_graph())\n",
    "print(\"Default Session:\", tf.get_default_session())\n",
    "#print(\"Graph operations : \",tf.get_default_graph().get_operations())\n",
    "print()"
   ]
  },
  {
   "cell_type": "code",
   "execution_count": null,
   "metadata": {},
   "outputs": [],
   "source": []
  },
  {
   "cell_type": "code",
   "execution_count": null,
   "metadata": {},
   "outputs": [],
   "source": []
  },
  {
   "cell_type": "markdown",
   "metadata": {},
   "source": [
    "### [Linear Regression: tf.estimator 사용예제]"
   ]
  },
  {
   "cell_type": "code",
   "execution_count": 10,
   "metadata": {},
   "outputs": [
    {
     "data": {
      "text/plain": [
       "'\\nfeature_column = [tf.feature_column.numeric_column(key=\\'x\\', shape=13)]\\n\\ntrain_input_fn = tf.estimator.inputs.numpy_input_fn(\\n    {\\'x\\': x_data}, y_data, shuffle=True, batch_size=506, num_epochs=300\\n)\\n\\neval_input_fn = tf.estimator.inputs.numpy_input_fn(\\n    {\\'x\\': x_data}, y_data, shuffle=True, batch_size=506, num_epochs=1\\n)\\n\\nreg = tf.estimator.LinearRegressor(\\n    feature_columns=feature_column,\\n    optimizer=tf.train.GradientDescentOptimizer(learning_rate=0.001),\\n    loss_reduction=tf.losses.Reduction.MEAN\\n)\\n\\nreg.train(input_fn=train_input_fn)\\n\\nMSE = reg.evaluate(input_fn=eval_input_fn)\\n\\nprint(MSE)\\n\\nprint(\"Default Graph  :\", tf.get_default_graph())\\nprint(\"Default Session:\", tf.get_default_session())\\n# '"
      ]
     },
     "execution_count": 10,
     "metadata": {},
     "output_type": "execute_result"
    }
   ],
   "source": [
    "\"\"\"\n",
    "feature_column = [tf.feature_column.numeric_column(key='x', shape=13)]\n",
    "\n",
    "train_input_fn = tf.estimator.inputs.numpy_input_fn(\n",
    "    {'x': x_data}, y_data, shuffle=True, batch_size=506, num_epochs=300\n",
    ")\n",
    "\n",
    "eval_input_fn = tf.estimator.inputs.numpy_input_fn(\n",
    "    {'x': x_data}, y_data, shuffle=True, batch_size=506, num_epochs=1\n",
    ")\n",
    "\n",
    "reg = tf.estimator.LinearRegressor(\n",
    "    feature_columns=feature_column,\n",
    "    optimizer=tf.train.GradientDescentOptimizer(learning_rate=0.001),\n",
    "    loss_reduction=tf.losses.Reduction.MEAN\n",
    ")\n",
    "\n",
    "reg.train(input_fn=train_input_fn)\n",
    "\n",
    "MSE = reg.evaluate(input_fn=eval_input_fn)\n",
    "\n",
    "print(MSE)\n",
    "\n",
    "print(\"Default Graph  :\", tf.get_default_graph())\n",
    "print(\"Default Session:\", tf.get_default_session())\n",
    "# \"\"\""
   ]
  },
  {
   "cell_type": "code",
   "execution_count": null,
   "metadata": {},
   "outputs": [],
   "source": []
  },
  {
   "cell_type": "code",
   "execution_count": null,
   "metadata": {},
   "outputs": [],
   "source": []
  },
  {
   "cell_type": "markdown",
   "metadata": {},
   "source": [
    "* 그래프 초기화(삭제하고 다시 생성한듯...) 하여 기존에 담겨 있던 내용을 초기화 함"
   ]
  },
  {
   "cell_type": "code",
   "execution_count": 11,
   "metadata": {},
   "outputs": [],
   "source": [
    "tf.reset_default_graph()"
   ]
  },
  {
   "cell_type": "code",
   "execution_count": 12,
   "metadata": {},
   "outputs": [
    {
     "name": "stdout",
     "output_type": "stream",
     "text": [
      "Default Graph  : <tensorflow.python.framework.ops.Graph object at 0xb2d5546a0>\n",
      "Default Session: None\n",
      "Graph operations :  []\n",
      "\n"
     ]
    }
   ],
   "source": [
    "checkGraph_session_operations()"
   ]
  },
  {
   "cell_type": "code",
   "execution_count": null,
   "metadata": {},
   "outputs": [],
   "source": []
  },
  {
   "cell_type": "code",
   "execution_count": null,
   "metadata": {},
   "outputs": [],
   "source": []
  },
  {
   "cell_type": "markdown",
   "metadata": {},
   "source": [
    "# session 생성시 차이점( with tf.Session  VS sess = tf.Session() )"
   ]
  },
  {
   "cell_type": "markdown",
   "metadata": {},
   "source": [
    "-  with 블록을 활용한 default session 지정\n",
    "  - with 블록 내부의 sess는 default session\n",
    "  - with 블록이 끝나면 sess는 자동 종료\n",
    "  \n",
    "- default session이 생성된 상황에서는 run() 호출 가능\n",
    "  - x.initializer.run() == tf.get_default_session().run(x.initializer)\n",
    "  - f.eval() == tf.get_default_session().run(f)\n"
   ]
  },
  {
   "cell_type": "markdown",
   "metadata": {},
   "source": [
    "###### default session 에서 InteractiveSession을 생성하면 default session 이 InteractiveSession으로 변경됨"
   ]
  },
  {
   "cell_type": "code",
   "execution_count": null,
   "metadata": {},
   "outputs": [],
   "source": []
  },
  {
   "cell_type": "markdown",
   "metadata": {},
   "source": [
    "---\n",
    "## 9.2 첫 번째 계산 그래프를 만들어 세션에서 실행하기"
   ]
  },
  {
   "cell_type": "code",
   "execution_count": 14,
   "metadata": {},
   "outputs": [
    {
     "name": "stdout",
     "output_type": "stream",
     "text": [
      "Default Graph  : <tensorflow.python.framework.ops.Graph object at 0xb2d554518>\n",
      "Default Session: None\n"
     ]
    }
   ],
   "source": [
    "print(\"Default Graph  :\", tf.get_default_graph())\n",
    "print(\"Default Session:\", tf.get_default_session())"
   ]
  },
  {
   "cell_type": "code",
   "execution_count": 15,
   "metadata": {},
   "outputs": [
    {
     "name": "stdout",
     "output_type": "stream",
     "text": [
      "Default Graph  : <tensorflow.python.framework.ops.Graph object at 0x1a2e56f1d0>\n",
      "Default Session: None\n",
      "Default Graph  : <tensorflow.python.framework.ops.Graph object at 0x1a2e56f1d0>\n",
      "Default Session: None\n",
      "Tensor(\"add_1:0\", shape=(), dtype=int32)\n"
     ]
    }
   ],
   "source": [
    "tf.reset_default_graph()\n",
    "print(\"Default Graph  :\", tf.get_default_graph())\n",
    "print(\"Default Session:\", tf.get_default_session())\n",
    "\n",
    "x = tf.Variable(3, name=\"x\")\n",
    "y = tf.Variable(4, name=\"y\")\n",
    "f = x*x*y + y + 2\n",
    "\n",
    "print(\"Default Graph  :\", tf.get_default_graph())\n",
    "print(\"Default Session:\", tf.get_default_session())\n",
    "print(f)"
   ]
  },
  {
   "cell_type": "code",
   "execution_count": 16,
   "metadata": {},
   "outputs": [
    {
     "name": "stdout",
     "output_type": "stream",
     "text": [
      "42\n",
      "Default Graph  : <tensorflow.python.framework.ops.Graph object at 0x1a2e56f1d0>\n",
      "Default Session: None\n"
     ]
    }
   ],
   "source": [
    "sess = tf.Session()\n",
    "\n",
    "sess.run(x.initializer)\n",
    "sess.run(y.initializer)\n",
    "result = sess.run(f)\n",
    "print(result)\n",
    "print(\"Default Graph  :\", tf.get_default_graph())\n",
    "print(\"Default Session:\", tf.get_default_session())\n",
    "\n",
    "sess.close()"
   ]
  },
  {
   "cell_type": "markdown",
   "metadata": {},
   "source": [
    "-  with 블록을 활용한 default session 지정\n",
    "  - with 블록 내부의 sess는 default session\n",
    "  - with 블록이 끝나면 sess는 자동 종료\n",
    "  \n",
    "- default session이 생성된 상황에서는 run() 호출 가능\n",
    "  - x.initializer.run() == tf.get_default_session().run(x.initializer)\n",
    "  - f.eval() == tf.get_default_session().run(f)"
   ]
  },
  {
   "cell_type": "code",
   "execution_count": 17,
   "metadata": {},
   "outputs": [
    {
     "name": "stdout",
     "output_type": "stream",
     "text": [
      "Default Graph  : <tensorflow.python.framework.ops.Graph object at 0x1a2e56f1d0>\n",
      "Default Session: None\n",
      "\n",
      "Default Graph  : <tensorflow.python.framework.ops.Graph object at 0x1a2e56f1d0>\n",
      "Default Session: <tensorflow.python.client.session.Session object at 0x1a2e57a780>\n",
      "True\n",
      "\n",
      "42\n",
      "Default Graph  : <tensorflow.python.framework.ops.Graph object at 0x1a2e56f1d0>\n",
      "Default Session: None\n"
     ]
    }
   ],
   "source": [
    "print(\"Default Graph  :\", tf.get_default_graph())\n",
    "print(\"Default Session:\", tf.get_default_session())\n",
    "print()\n",
    "\n",
    "with tf.Session() as sess:\n",
    "    x.initializer.run()\n",
    "    y.initializer.run()\n",
    "    result = f.eval()\n",
    "    print(\"Default Graph  :\", tf.get_default_graph())\n",
    "    print(\"Default Session:\", tf.get_default_session())\n",
    "    print(sess is tf.get_default_session())  \n",
    "    print()\n",
    "\n",
    "print(result)\n",
    "print(\"Default Graph  :\", tf.get_default_graph())\n",
    "print(\"Default Session:\", tf.get_default_session())"
   ]
  },
  {
   "cell_type": "code",
   "execution_count": 18,
   "metadata": {},
   "outputs": [
    {
     "name": "stdout",
     "output_type": "stream",
     "text": [
      "Default Graph  : <tensorflow.python.framework.ops.Graph object at 0x1a2e56f1d0>\n",
      "Default Session: None\n",
      "\n",
      "Default Graph  : <tensorflow.python.framework.ops.Graph object at 0x1a2e56f1d0>\n",
      "Default Session: <tensorflow.python.client.session.Session object at 0x1a2e57a860>\n",
      "True\n",
      "\n",
      "42\n",
      "Default Graph  : <tensorflow.python.framework.ops.Graph object at 0x1a2e56f1d0>\n",
      "Default Session: None\n"
     ]
    }
   ],
   "source": [
    "print(\"Default Graph  :\", tf.get_default_graph())\n",
    "print(\"Default Session:\", tf.get_default_session())\n",
    "print()\n",
    "\n",
    "with tf.Session() as sess:\n",
    "    tf.get_default_session().run(x.initializer)\n",
    "    tf.get_default_session().run(y.initializer)\n",
    "    result = tf.get_default_session().run(f)\n",
    "    print(\"Default Graph  :\", tf.get_default_graph())\n",
    "    print(\"Default Session:\", tf.get_default_session())\n",
    "    print(sess is tf.get_default_session())  \n",
    "    print()\n",
    "\n",
    "print(result)\n",
    "print(\"Default Graph  :\", tf.get_default_graph())\n",
    "print(\"Default Session:\", tf.get_default_session())"
   ]
  },
  {
   "cell_type": "markdown",
   "metadata": {},
   "source": [
    "* 각 변수를 개별적으로 초기화하는 대신 global_variables_initialzer() 함수 사용"
   ]
  },
  {
   "cell_type": "code",
   "execution_count": 19,
   "metadata": {},
   "outputs": [
    {
     "name": "stdout",
     "output_type": "stream",
     "text": [
      "42\n",
      "Default Graph  : <tensorflow.python.framework.ops.Graph object at 0x1a2e56f1d0>\n",
      "Default Session: None\n"
     ]
    }
   ],
   "source": [
    "init = tf.global_variables_initializer()\n",
    "\n",
    "with tf.Session():\n",
    "    init.run()   # 실제 모든 변수 초기화\n",
    "    result = f.eval()\n",
    "\n",
    "print(result)\n",
    "print(\"Default Graph  :\", tf.get_default_graph())\n",
    "print(\"Default Session:\", tf.get_default_session())"
   ]
  },
  {
   "cell_type": "markdown",
   "metadata": {},
   "source": [
    "- InteractiveSession 사용\n",
    "  - InteractiveSession이 생성되면 생성된 session 이 default session 으로 지정됨"
   ]
  },
  {
   "cell_type": "code",
   "execution_count": 20,
   "metadata": {},
   "outputs": [
    {
     "name": "stdout",
     "output_type": "stream",
     "text": [
      "Default Graph  : <tensorflow.python.framework.ops.Graph object at 0x1a2e56f1d0>\n",
      "Default Session: None\n",
      "\n",
      "Default Graph  : <tensorflow.python.framework.ops.Graph object at 0x1a2e56f1d0>\n",
      "Default Session: <tensorflow.python.client.session.InteractiveSession object at 0x1a2e57a518>\n",
      "\n",
      "42\n",
      "Default Graph  : <tensorflow.python.framework.ops.Graph object at 0x1a2e56f1d0>\n",
      "Default Session: None\n"
     ]
    }
   ],
   "source": [
    "print(\"Default Graph  :\", tf.get_default_graph())\n",
    "print(\"Default Session:\", tf.get_default_session())\n",
    "print()\n",
    "init = tf.global_variables_initializer()\n",
    "\n",
    "sess = tf.InteractiveSession()\n",
    "print(\"Default Graph  :\", tf.get_default_graph())\n",
    "print(\"Default Session:\", tf.get_default_session())\n",
    "print()\n",
    "\n",
    "init.run()\n",
    "result = f.eval()\n",
    "sess.close()\n",
    "\n",
    "print(result)\n",
    "print(\"Default Graph  :\", tf.get_default_graph())\n",
    "print(\"Default Session:\", tf.get_default_session())"
   ]
  },
  {
   "cell_type": "code",
   "execution_count": null,
   "metadata": {},
   "outputs": [],
   "source": []
  },
  {
   "cell_type": "code",
   "execution_count": null,
   "metadata": {},
   "outputs": [],
   "source": []
  },
  {
   "cell_type": "markdown",
   "metadata": {},
   "source": [
    "---\n",
    "## 9.3 계산 그래프 관리"
   ]
  },
  {
   "cell_type": "markdown",
   "metadata": {},
   "source": [
    "- 노드를 만들면 자동으로 default graph에 추가"
   ]
  },
  {
   "cell_type": "code",
   "execution_count": 22,
   "metadata": {},
   "outputs": [
    {
     "name": "stdout",
     "output_type": "stream",
     "text": [
      "Default Graph  : <tensorflow.python.framework.ops.Graph object at 0x1a2e56f1d0>\n",
      "Default Session: None\n",
      "\n",
      "Default Graph  : <tensorflow.python.framework.ops.Graph object at 0x1a2e56fb00>\n",
      "Default Session: None\n",
      "\n",
      "True\n"
     ]
    }
   ],
   "source": [
    "print(\"Default Graph  :\", tf.get_default_graph())\n",
    "print(\"Default Session:\", tf.get_default_session())\n",
    "print()\n",
    "\n",
    "tf.reset_default_graph()\n",
    "print(\"Default Graph  :\", tf.get_default_graph())\n",
    "print(\"Default Session:\", tf.get_default_session())\n",
    "print()\n",
    "\n",
    "x1 = tf.Variable(1)\n",
    "print(x1.graph is tf.get_default_graph())"
   ]
  },
  {
   "cell_type": "code",
   "execution_count": 23,
   "metadata": {},
   "outputs": [
    {
     "name": "stdout",
     "output_type": "stream",
     "text": [
      "Default Graph  : <tensorflow.python.framework.ops.Graph object at 0x1a2e56fb00>\n",
      "Default Session: None\n",
      "\n",
      "False\n",
      "True\n",
      "True\n",
      "False\n",
      "True\n"
     ]
    }
   ],
   "source": [
    "print(\"Default Graph  :\", tf.get_default_graph())\n",
    "print(\"Default Session:\", tf.get_default_session())\n",
    "print()\n",
    "\n",
    "graph = tf.Graph()\n",
    "print(graph is tf.get_default_graph())\n",
    "\n",
    "with graph.as_default():\n",
    "    x2 = tf.Variable(2)\n",
    "    print(graph is tf.get_default_graph())    \n",
    "    print(x2.graph is tf.get_default_graph())\n",
    "    \n",
    "print(x2.graph is tf.get_default_graph()) # graph (== x2.graph)는 디폴트 그래프에서 분리된 다른 그래프\n",
    "print(x2.graph is graph)"
   ]
  },
  {
   "cell_type": "markdown",
   "metadata": {},
   "source": [
    "- ***[주의]***\n",
    "  - Tensorflow 코딩을 하는 동안 default graph에 중복되거나 불필요한 노드가 포함될 수 있음\n",
    "  - 그러므로, 코드 시작시에 tf.reset_default_graph()로 default graph를 초기화하는 습관 필요"
   ]
  },
  {
   "cell_type": "code",
   "execution_count": null,
   "metadata": {},
   "outputs": [],
   "source": []
  },
  {
   "cell_type": "code",
   "execution_count": null,
   "metadata": {},
   "outputs": [],
   "source": []
  },
  {
   "cell_type": "markdown",
   "metadata": {},
   "source": [
    "---\n",
    "## 9.4 노드 값의 생애주기"
   ]
  },
  {
   "cell_type": "markdown",
   "metadata": {},
   "source": [
    "- 임의의 노드 평가 --> 이 노드가 의존하고 있는 다른 노드들을 자동으로 먼저 찾아 평가"
   ]
  },
  {
   "cell_type": "code",
   "execution_count": 24,
   "metadata": {},
   "outputs": [
    {
     "name": "stdout",
     "output_type": "stream",
     "text": [
      "Tensor(\"Const:0\", shape=(), dtype=int32)\n",
      "Tensor(\"add:0\", shape=(), dtype=int32)\n",
      "Tensor(\"add_1:0\", shape=(), dtype=int32)\n",
      "Tensor(\"mul:0\", shape=(), dtype=int32)\n",
      "\n",
      "10\n",
      "15\n"
     ]
    }
   ],
   "source": [
    "w = tf.constant(3)\n",
    "x = w + 2\n",
    "y = x + 5\n",
    "z = x * 3\n",
    "\n",
    "print(w)\n",
    "print(x)\n",
    "print(y)\n",
    "print(z)\n",
    "print()\n",
    "with tf.Session() as sess:\n",
    "    print(y.eval())  # 10\n",
    "    print(z.eval())  # 15"
   ]
  },
  {
   "cell_type": "markdown",
   "metadata": {},
   "source": [
    "- 위 코드의 단점\n",
    "  - w와 x가 두번 평가됨\n",
    "  - 즉, 상수 노드에 대해서는 평가된 노드의 값은 한번의 eval() 실행이후 세션 내에서 사라짐\n",
    "- 아래 코드는 개선된 코드\n",
    "  - sess.run()을 통해서 한번 그래프 실행으로 w와 x는 한번만 평가됨"
   ]
  },
  {
   "cell_type": "code",
   "execution_count": 25,
   "metadata": {},
   "outputs": [
    {
     "name": "stdout",
     "output_type": "stream",
     "text": [
      "10\n",
      "15\n"
     ]
    }
   ],
   "source": [
    "with tf.Session() as sess:\n",
    "    y_val, z_val = sess.run([y, z])\n",
    "    print(y_val)  # 10\n",
    "    print(z_val)  # 15"
   ]
  },
  {
   "cell_type": "markdown",
   "metadata": {},
   "source": [
    "- 변수 노드에 대해서는 eval() 이후에도 세션 내에 유지됨\n",
    "- 변수의 일생\n",
    "  - 변수가 초기화될 때 시작\n",
    "  - 세션이 종료가 되면 내용이 사라짐"
   ]
  },
  {
   "cell_type": "markdown",
   "metadata": {},
   "source": [
    "- 단일 프로세스 텐서플로우에서는 여러 세션에서 동일한 그래프를 재사용하더라도 어떤 상태도 공유하지 않음"
   ]
  },
  {
   "cell_type": "code",
   "execution_count": 28,
   "metadata": {},
   "outputs": [
    {
     "name": "stdout",
     "output_type": "stream",
     "text": [
      "[10]\n",
      "15\n",
      "15\n"
     ]
    }
   ],
   "source": [
    "with tf.Session() as sess:\n",
    "    y_val = sess.run([y])\n",
    "    print(y_val)  # 10\n",
    "    z_val = sess.run((z))\n",
    "    print(z_val)\n",
    "    x_val = sess.run(x)\n",
    "    print(z_val)\n",
    "    "
   ]
  },
  {
   "cell_type": "code",
   "execution_count": null,
   "metadata": {},
   "outputs": [],
   "source": []
  },
  {
   "cell_type": "code",
   "execution_count": null,
   "metadata": {},
   "outputs": [],
   "source": []
  },
  {
   "cell_type": "markdown",
   "metadata": {},
   "source": [
    "---\n",
    "## 9.5 텐서플로우를 이용한 선형 회귀"
   ]
  },
  {
   "cell_type": "code",
   "execution_count": 31,
   "metadata": {},
   "outputs": [
    {
     "name": "stdout",
     "output_type": "stream",
     "text": [
      "<class 'sklearn.utils.Bunch'>\n",
      "(20640, 8)\n",
      "(20640, 9)\n",
      "\n",
      "(20640,)\n",
      "(20640, 1)\n"
     ]
    }
   ],
   "source": [
    "import numpy as np\n",
    "from sklearn.datasets import fetch_california_housing\n",
    "import tensorflow as tf\n",
    "\n",
    "housing = fetch_california_housing()\n",
    "print(type(housing))\n",
    "print(housing.data.shape)\n",
    "\n",
    "m = housing.data.shape[0]\n",
    "\n",
    "# 각 훈련 샘플에 편향 특성(x_0 = 1) 추가\n",
    "# np.c_ : (concat) 배열 합치기 : https://rfriend.tistory.com/352\n",
    "housing_data_plus_bias = np.c_[np.ones(shape=(m, 1)), housing.data]\n",
    "print(housing_data_plus_bias.shape)\n",
    "\n",
    "print()\n",
    "\n",
    "print(housing.target.shape)\n",
    "housing_target = housing.target.reshape(-1, 1)\n",
    "print(housing_target.shape)"
   ]
  },
  {
   "cell_type": "code",
   "execution_count": 32,
   "metadata": {},
   "outputs": [
    {
     "name": "stdout",
     "output_type": "stream",
     "text": [
      "[[-3.69419202e+01]\n",
      " [ 4.36693293e-01]\n",
      " [ 9.43577803e-03]\n",
      " [-1.07322041e-01]\n",
      " [ 6.45065694e-01]\n",
      " [-3.97638942e-06]\n",
      " [-3.78654265e-03]\n",
      " [-4.21314378e-01]\n",
      " [-4.34513755e-01]]\n"
     ]
    }
   ],
   "source": [
    "tf.reset_default_graph()\n",
    "\n",
    "X = tf.constant(housing_data_plus_bias, dtype=tf.float64, name=\"X\")\n",
    "y = tf.constant(housing_target, dtype=tf.float64, name=\"y\")\n",
    "XT = tf.transpose(X)\n",
    "theta = tf.matmul(tf.matmul(tf.matrix_inverse(tf.matmul(XT, X)), XT), y)\n",
    "\n",
    "with tf.Session() as sess:\n",
    "    result = theta.eval()\n",
    "\n",
    "print(result)"
   ]
  },
  {
   "cell_type": "code",
   "execution_count": null,
   "metadata": {},
   "outputs": [],
   "source": []
  },
  {
   "cell_type": "code",
   "execution_count": null,
   "metadata": {},
   "outputs": [],
   "source": []
  },
  {
   "cell_type": "markdown",
   "metadata": {},
   "source": [
    "---\n",
    "## 9.6 경사 하강법 구현\n",
    "- 정규 방정식 대신 경사 하강법을 활용하여 $\\theta$를 구하기\n",
    "- 경사 하강법 구현 방법\n",
    "  - 1) 직접 gradient 계산\n",
    "  - 2) Tensorflow의 자동 미분 (autodiff) 사용\n",
    "  - 3) Tensorflow의 내장 optimizer 사용"
   ]
  },
  {
   "cell_type": "markdown",
   "metadata": {},
   "source": [
    "- 경사 하강법 사용시에는 입력 특성 정규화 중요\n",
    "  - scikit-learn의 StandardScaler 사용"
   ]
  },
  {
   "cell_type": "code",
   "execution_count": 33,
   "metadata": {},
   "outputs": [],
   "source": [
    "from sklearn.preprocessing import StandardScaler\n",
    "scaler = StandardScaler()\n",
    "scaled_housing_data = scaler.fit_transform(housing.data)\n",
    "scaled_housing_data_plus_bias = np.c_[np.ones((m, 1)), scaled_housing_data]"
   ]
  },
  {
   "cell_type": "code",
   "execution_count": 37,
   "metadata": {},
   "outputs": [
    {
     "name": "stdout",
     "output_type": "stream",
     "text": [
      "[ 1.00000000e+00  6.60969987e-17  5.50808322e-18  6.60969987e-17\n",
      " -1.06030602e-16 -1.10161664e-17  3.44255201e-18 -1.07958431e-15\n",
      " -8.52651283e-15]\n",
      "(20640, 9)\n"
     ]
    }
   ],
   "source": [
    "# 학습 데이터의 컬럼별 평균\n",
    "print(scaled_housing_data_plus_bias.mean(axis=0))\n",
    "print(scaled_housing_data_plus_bias.shape)"
   ]
  },
  {
   "cell_type": "markdown",
   "metadata": {},
   "source": [
    "### 9.6.1 직접 gradient 계산"
   ]
  },
  {
   "cell_type": "markdown",
   "metadata": {},
   "source": [
    "- Mean Sqaure Error (MSE)\n",
    "$$J(\\theta)= \\frac{1}{m} \\sum(X \\cdot \\theta - y)^2$$\n",
    "- Gradient of MSE \n",
    "$$J'(\\theta) = \\frac{2}{m} X^T \\cdot (X \\cdot \\theta - y)$$\n",
    "  - $X^T$: (9, 20640)\n",
    "  - $X$: (20640, 9) <-- scaled_housing_data_plus_bias\n",
    "  - $\\theta$: (9, 1) \n",
    "  - $X \\cdot \\theta$: (20640, 1)\n",
    "  - $y$: (20640, 1) <-- housing_target\n",
    "  \n",
    "  \n",
    "- Gradient descent for getting $\\theta$\n",
    "  - $$\\theta = \\theta - \\alpha J'(\\theta)$$"
   ]
  },
  {
   "cell_type": "code",
   "execution_count": 38,
   "metadata": {},
   "outputs": [
    {
     "name": "stdout",
     "output_type": "stream",
     "text": [
      "Number of samples: 20640, Number of features: 9\n",
      "\n",
      "Epoch 0 MSE = 2.7544262\n",
      "Epoch 100 MSE = 0.632222\n",
      "Epoch 200 MSE = 0.5727805\n",
      "Epoch 300 MSE = 0.5585007\n",
      "Epoch 400 MSE = 0.54907\n",
      "Epoch 500 MSE = 0.542288\n",
      "Epoch 600 MSE = 0.53737885\n",
      "Epoch 700 MSE = 0.533822\n",
      "Epoch 800 MSE = 0.5312425\n",
      "Epoch 900 MSE = 0.5293705\n",
      "Best theta: \n",
      "[[ 2.06855226e+00]\n",
      " [ 7.74078071e-01]\n",
      " [ 1.31192386e-01]\n",
      " [-1.17845066e-01]\n",
      " [ 1.64778143e-01]\n",
      " [ 7.44081801e-04]\n",
      " [-3.91945131e-02]\n",
      " [-8.61356556e-01]\n",
      " [-8.23479712e-01]]\n"
     ]
    }
   ],
   "source": [
    "tf.reset_default_graph()\n",
    "\n",
    "learning_rate = 0.01\n",
    "\n",
    "m, n = scaled_housing_data_plus_bias.shape\n",
    "print(\"Number of samples: {0}, Number of features: {1}\".format(m, n))\n",
    "print()\n",
    "\n",
    "X = tf.constant(scaled_housing_data_plus_bias, dtype=tf.float32, name=\"X\")\n",
    "y = tf.constant(housing_target, dtype=tf.float32, name=\"y\")\n",
    "\n",
    "theta = tf.Variable(\n",
    "    tf.random_uniform(shape=[n, 1], minval=-1.0, maxval=1.0, seed=42), \n",
    "    name=\"theta\"\n",
    ")\n",
    "\n",
    "y_pred = tf.matmul(X, theta, name=\"predictions\")\n",
    "error = y_pred - y\n",
    "mse = tf.reduce_mean(tf.square(error), name=\"mse\")\n",
    "\n",
    "gradients = 2/m * tf.matmul(tf.transpose(X), error)\n",
    "training_op = tf.assign(theta, theta - learning_rate * gradients)\n",
    "\n",
    "init = tf.global_variables_initializer()\n",
    "\n",
    "n_epochs = 1000\n",
    "\n",
    "with tf.Session() as sess:\n",
    "    sess.run(init)\n",
    "\n",
    "    for epoch in range(n_epochs):\n",
    "        if epoch % 100 == 0:\n",
    "            print(\"Epoch\", epoch, \"MSE =\", mse.eval())\n",
    "        sess.run(training_op)\n",
    "        \n",
    "    best_theta = theta.eval()\n",
    "\n",
    "print(\"Best theta: \\n{0}\".format(best_theta))"
   ]
  },
  {
   "cell_type": "code",
   "execution_count": null,
   "metadata": {},
   "outputs": [],
   "source": []
  },
  {
   "cell_type": "markdown",
   "metadata": {},
   "source": [
    "### 9.6.2 직접 gradient 계산\n",
    "- 후진 모드 자동 미분 (Backword Propagation - Autodiff)\n",
    "- ***gradients = tf.gradients(mse, [theta])[0]***"
   ]
  },
  {
   "cell_type": "code",
   "execution_count": 39,
   "metadata": {},
   "outputs": [
    {
     "name": "stdout",
     "output_type": "stream",
     "text": [
      "[5.0]\n"
     ]
    }
   ],
   "source": [
    "x = tf.constant(2.0)\n",
    "y = x**2 + x - 1\n",
    "\n",
    "grad = tf.gradients(y, x)\n",
    "\n",
    "init = tf.global_variables_initializer()\n",
    "\n",
    "with tf.Session() as sess:\n",
    "    sess.run(init)\n",
    "    grad_value = sess.run(grad)\n",
    "    print(grad_value)"
   ]
  },
  {
   "cell_type": "code",
   "execution_count": 40,
   "metadata": {},
   "outputs": [
    {
     "name": "stdout",
     "output_type": "stream",
     "text": [
      "Number of samples: 20640, Number of features: 9\n",
      "\n",
      "Epoch 0 MSE = 2.7544262\n",
      "Epoch 100 MSE = 0.632222\n",
      "Epoch 200 MSE = 0.5727805\n",
      "Epoch 300 MSE = 0.5585007\n",
      "Epoch 400 MSE = 0.54907\n",
      "Epoch 500 MSE = 0.54228795\n",
      "Epoch 600 MSE = 0.5373789\n",
      "Epoch 700 MSE = 0.533822\n",
      "Epoch 800 MSE = 0.5312425\n",
      "Epoch 900 MSE = 0.5293704\n",
      "Best theta: \n",
      "[[ 2.06855249e+00]\n",
      " [ 7.74078071e-01]\n",
      " [ 1.31192386e-01]\n",
      " [-1.17845066e-01]\n",
      " [ 1.64778143e-01]\n",
      " [ 7.44078017e-04]\n",
      " [-3.91945094e-02]\n",
      " [-8.61356676e-01]\n",
      " [-8.23479772e-01]]\n"
     ]
    }
   ],
   "source": [
    "tf.reset_default_graph()\n",
    "\n",
    "learning_rate = 0.01\n",
    "\n",
    "m, n = scaled_housing_data_plus_bias.shape\n",
    "print(\"Number of samples: {0}, Number of features: {1}\".format(m, n))\n",
    "print()\n",
    "\n",
    "X = tf.constant(scaled_housing_data_plus_bias, dtype=tf.float32, name=\"X\")\n",
    "y = tf.constant(housing_target, dtype=tf.float32, name=\"y\")\n",
    "\n",
    "theta = tf.Variable(\n",
    "    tf.random_uniform(shape=[n, 1], minval=-1.0, maxval=1.0, seed=42), \n",
    "    name=\"theta\"\n",
    ")\n",
    "\n",
    "y_pred = tf.matmul(X, theta, name=\"predictions\")\n",
    "error = y_pred - y\n",
    "mse = tf.reduce_mean(tf.square(error), name=\"mse\")\n",
    "\n",
    "###\n",
    "gradients = tf.gradients(mse, theta)[0]\n",
    "###\n",
    "training_op = tf.assign(theta, theta - learning_rate * gradients)\n",
    "\n",
    "init = tf.global_variables_initializer()\n",
    "\n",
    "n_epochs = 1000\n",
    "\n",
    "with tf.Session() as sess:\n",
    "    sess.run(init)\n",
    "\n",
    "    for epoch in range(n_epochs):\n",
    "        if epoch % 100 == 0:\n",
    "            print(\"Epoch\", epoch, \"MSE =\", mse.eval())\n",
    "        sess.run(training_op)\n",
    "        \n",
    "    best_theta = theta.eval()\n",
    "\n",
    "print(\"Best theta: \\n{0}\".format(best_theta))"
   ]
  },
  {
   "cell_type": "code",
   "execution_count": null,
   "metadata": {},
   "outputs": [],
   "source": []
  },
  {
   "cell_type": "markdown",
   "metadata": {},
   "source": [
    "### 9.6.3 Optimizer 사용\n"
   ]
  },
  {
   "cell_type": "markdown",
   "metadata": {},
   "source": [
    "- GradientDescentOptimizer 사용"
   ]
  },
  {
   "cell_type": "code",
   "execution_count": 41,
   "metadata": {},
   "outputs": [
    {
     "name": "stdout",
     "output_type": "stream",
     "text": [
      "Number of samples: 20640, Number of features: 9\n",
      "\n",
      "Epoch 0 MSE = 2.7544262\n",
      "Epoch 100 MSE = 0.632222\n",
      "Epoch 200 MSE = 0.5727805\n",
      "Epoch 300 MSE = 0.5585007\n",
      "Epoch 400 MSE = 0.54907\n",
      "Epoch 500 MSE = 0.54228795\n",
      "Epoch 600 MSE = 0.5373789\n",
      "Epoch 700 MSE = 0.533822\n",
      "Epoch 800 MSE = 0.5312425\n",
      "Epoch 900 MSE = 0.5293704\n",
      "Best theta: \n",
      "[[ 2.06855249e+00]\n",
      " [ 7.74078071e-01]\n",
      " [ 1.31192386e-01]\n",
      " [-1.17845066e-01]\n",
      " [ 1.64778143e-01]\n",
      " [ 7.44078017e-04]\n",
      " [-3.91945094e-02]\n",
      " [-8.61356676e-01]\n",
      " [-8.23479772e-01]]\n"
     ]
    }
   ],
   "source": [
    "tf.reset_default_graph()\n",
    "\n",
    "learning_rate = 0.01\n",
    "\n",
    "m, n = scaled_housing_data_plus_bias.shape\n",
    "print(\"Number of samples: {0}, Number of features: {1}\".format(m, n))\n",
    "print()\n",
    "\n",
    "X = tf.constant(scaled_housing_data_plus_bias, dtype=tf.float32, name=\"X\")\n",
    "y = tf.constant(housing_target, dtype=tf.float32, name=\"y\")\n",
    "\n",
    "theta = tf.Variable(\n",
    "    tf.random_uniform(shape=[n, 1], minval=-1.0, maxval=1.0, seed=42), \n",
    "    name=\"theta\"\n",
    ")\n",
    "\n",
    "y_pred = tf.matmul(X, theta, name=\"predictions\")\n",
    "error = y_pred - y\n",
    "mse = tf.reduce_mean(tf.square(error), name=\"mse\")\n",
    "\n",
    "###\n",
    "optimizer = tf.train.GradientDescentOptimizer(learning_rate=learning_rate)\n",
    "training_op = optimizer.minimize(mse)\n",
    "###\n",
    "\n",
    "init = tf.global_variables_initializer()\n",
    "\n",
    "n_epochs = 1000\n",
    "\n",
    "with tf.Session() as sess:\n",
    "    sess.run(init)\n",
    "\n",
    "    for epoch in range(n_epochs):\n",
    "        if epoch % 100 == 0:\n",
    "            print(\"Epoch\", epoch, \"MSE =\", mse.eval())\n",
    "        sess.run(training_op)\n",
    "        \n",
    "    best_theta = theta.eval()\n",
    "\n",
    "print(\"Best theta: \\n{0}\".format(best_theta))"
   ]
  },
  {
   "cell_type": "markdown",
   "metadata": {},
   "source": [
    "- MomentumOptimizer 사용"
   ]
  },
  {
   "cell_type": "code",
   "execution_count": 42,
   "metadata": {},
   "outputs": [
    {
     "name": "stdout",
     "output_type": "stream",
     "text": [
      "Number of samples: 20640, Number of features: 9\n",
      "\n",
      "Epoch 0 MSE = 2.7544262\n",
      "Epoch 100 MSE = 0.52731586\n",
      "Epoch 200 MSE = 0.52441466\n",
      "Epoch 300 MSE = 0.52432835\n",
      "Epoch 400 MSE = 0.5243219\n",
      "Epoch 500 MSE = 0.524321\n",
      "Epoch 600 MSE = 0.52432066\n",
      "Epoch 700 MSE = 0.524321\n",
      "Epoch 800 MSE = 0.52432126\n",
      "Epoch 900 MSE = 0.524321\n",
      "Best theta: \n",
      "[[ 2.068558  ]\n",
      " [ 0.8296167 ]\n",
      " [ 0.11875112]\n",
      " [-0.26552212]\n",
      " [ 0.30569226]\n",
      " [-0.00450316]\n",
      " [-0.03932616]\n",
      " [-0.8998917 ]\n",
      " [-0.87054664]]\n"
     ]
    }
   ],
   "source": [
    "tf.reset_default_graph()\n",
    "\n",
    "learning_rate = 0.01\n",
    "\n",
    "m, n = scaled_housing_data_plus_bias.shape\n",
    "print(\"Number of samples: {0}, Number of features: {1}\".format(m, n))\n",
    "print()\n",
    "\n",
    "X = tf.constant(scaled_housing_data_plus_bias, dtype=tf.float32, name=\"X\")\n",
    "y = tf.constant(housing_target, dtype=tf.float32, name=\"y\")\n",
    "\n",
    "theta = tf.Variable(\n",
    "    tf.random_uniform(shape=[n, 1], minval=-1.0, maxval=1.0, seed=42), \n",
    "    name=\"theta\"\n",
    ")\n",
    "\n",
    "y_pred = tf.matmul(X, theta, name=\"predictions\")\n",
    "error = y_pred - y\n",
    "mse = tf.reduce_mean(tf.square(error), name=\"mse\")\n",
    "\n",
    "###\n",
    "optimizer = tf.train.MomentumOptimizer(learning_rate=learning_rate, momentum=0.9)\n",
    "training_op = optimizer.minimize(mse)\n",
    "###\n",
    "\n",
    "init = tf.global_variables_initializer()\n",
    "\n",
    "n_epochs = 1000\n",
    "\n",
    "with tf.Session() as sess:\n",
    "    sess.run(init)\n",
    "\n",
    "    for epoch in range(n_epochs):\n",
    "        if epoch % 100 == 0:\n",
    "            print(\"Epoch\", epoch, \"MSE =\", mse.eval())\n",
    "        sess.run(training_op)\n",
    "        \n",
    "    best_theta = theta.eval()\n",
    "\n",
    "print(\"Best theta: \\n{0}\".format(best_theta))"
   ]
  },
  {
   "cell_type": "code",
   "execution_count": null,
   "metadata": {},
   "outputs": [],
   "source": []
  }
 ],
 "metadata": {
  "kernelspec": {
   "display_name": "Python 3",
   "language": "python",
   "name": "python3"
  },
  "language_info": {
   "codemirror_mode": {
    "name": "ipython",
    "version": 3
   },
   "file_extension": ".py",
   "mimetype": "text/x-python",
   "name": "python",
   "nbconvert_exporter": "python",
   "pygments_lexer": "ipython3",
   "version": "3.6.8"
  }
 },
 "nbformat": 4,
 "nbformat_minor": 2
}
